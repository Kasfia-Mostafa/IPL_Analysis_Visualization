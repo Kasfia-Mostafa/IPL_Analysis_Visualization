{
 "cells": [
  {
   "cell_type": "code",
   "execution_count": 2,
   "id": "ac64feaf",
   "metadata": {},
   "outputs": [
    {
     "name": "stdout",
     "output_type": "stream",
     "text": [
      "Requirement already satisfied: numpy in f:\\machine learning\\ipl\\.venv\\lib\\site-packages (2.3.0)\n",
      "Note: you may need to restart the kernel to use updated packages.\n",
      "Requirement already satisfied: pandas in f:\\machine learning\\ipl\\.venv\\lib\\site-packages (2.3.0)\n",
      "Requirement already satisfied: numpy>=1.26.0 in f:\\machine learning\\ipl\\.venv\\lib\\site-packages (from pandas) (2.3.0)\n",
      "Requirement already satisfied: python-dateutil>=2.8.2 in f:\\machine learning\\ipl\\.venv\\lib\\site-packages (from pandas) (2.9.0.post0)\n",
      "Requirement already satisfied: pytz>=2020.1 in f:\\machine learning\\ipl\\.venv\\lib\\site-packages (from pandas) (2025.2)\n",
      "Requirement already satisfied: tzdata>=2022.7 in f:\\machine learning\\ipl\\.venv\\lib\\site-packages (from pandas) (2025.2)\n",
      "Requirement already satisfied: six>=1.5 in f:\\machine learning\\ipl\\.venv\\lib\\site-packages (from python-dateutil>=2.8.2->pandas) (1.17.0)\n",
      "Note: you may need to restart the kernel to use updated packages.\n",
      "Note: you may need to restart the kernel to use updated packages.\n"
     ]
    },
    {
     "name": "stderr",
     "output_type": "stream",
     "text": [
      "ERROR: Could not find a version that satisfies the requirement matplotlib.pyplot (from versions: none)\n",
      "ERROR: No matching distribution found for matplotlib.pyplot\n"
     ]
    },
    {
     "name": "stdout",
     "output_type": "stream",
     "text": [
      "Requirement already satisfied: seaborn in f:\\machine learning\\ipl\\.venv\\lib\\site-packages (0.13.2)\n",
      "Requirement already satisfied: numpy!=1.24.0,>=1.20 in f:\\machine learning\\ipl\\.venv\\lib\\site-packages (from seaborn) (2.3.0)\n",
      "Requirement already satisfied: pandas>=1.2 in f:\\machine learning\\ipl\\.venv\\lib\\site-packages (from seaborn) (2.3.0)\n",
      "Requirement already satisfied: matplotlib!=3.6.1,>=3.4 in f:\\machine learning\\ipl\\.venv\\lib\\site-packages (from seaborn) (3.10.3)\n",
      "Requirement already satisfied: contourpy>=1.0.1 in f:\\machine learning\\ipl\\.venv\\lib\\site-packages (from matplotlib!=3.6.1,>=3.4->seaborn) (1.3.2)\n",
      "Requirement already satisfied: cycler>=0.10 in f:\\machine learning\\ipl\\.venv\\lib\\site-packages (from matplotlib!=3.6.1,>=3.4->seaborn) (0.12.1)\n",
      "Requirement already satisfied: fonttools>=4.22.0 in f:\\machine learning\\ipl\\.venv\\lib\\site-packages (from matplotlib!=3.6.1,>=3.4->seaborn) (4.58.2)\n",
      "Requirement already satisfied: kiwisolver>=1.3.1 in f:\\machine learning\\ipl\\.venv\\lib\\site-packages (from matplotlib!=3.6.1,>=3.4->seaborn) (1.4.8)\n",
      "Requirement already satisfied: packaging>=20.0 in f:\\machine learning\\ipl\\.venv\\lib\\site-packages (from matplotlib!=3.6.1,>=3.4->seaborn) (25.0)\n",
      "Requirement already satisfied: pillow>=8 in f:\\machine learning\\ipl\\.venv\\lib\\site-packages (from matplotlib!=3.6.1,>=3.4->seaborn) (11.2.1)\n",
      "Requirement already satisfied: pyparsing>=2.3.1 in f:\\machine learning\\ipl\\.venv\\lib\\site-packages (from matplotlib!=3.6.1,>=3.4->seaborn) (3.2.3)\n",
      "Requirement already satisfied: python-dateutil>=2.7 in f:\\machine learning\\ipl\\.venv\\lib\\site-packages (from matplotlib!=3.6.1,>=3.4->seaborn) (2.9.0.post0)\n",
      "Requirement already satisfied: pytz>=2020.1 in f:\\machine learning\\ipl\\.venv\\lib\\site-packages (from pandas>=1.2->seaborn) (2025.2)\n",
      "Requirement already satisfied: tzdata>=2022.7 in f:\\machine learning\\ipl\\.venv\\lib\\site-packages (from pandas>=1.2->seaborn) (2025.2)\n",
      "Requirement already satisfied: six>=1.5 in f:\\machine learning\\ipl\\.venv\\lib\\site-packages (from python-dateutil>=2.7->matplotlib!=3.6.1,>=3.4->seaborn) (1.17.0)\n",
      "Note: you may need to restart the kernel to use updated packages.\n"
     ]
    }
   ],
   "source": [
    "%pip install numpy\n",
    "%pip install pandas\n",
    "%pip install matplotlib.pyplot\n",
    "%pip install seaborn"
   ]
  },
  {
   "cell_type": "code",
   "execution_count": 3,
   "id": "189b3b5c",
   "metadata": {},
   "outputs": [],
   "source": [
    "import numpy as np\n",
    "import pandas as pd\n",
    "import matplotlib.pyplot as plt\n",
    "import seaborn as sns\n",
    "import warnings\n",
    "warnings.filterwarnings(\"ignore\")"
   ]
  },
  {
   "cell_type": "code",
   "execution_count": 4,
   "id": "f4fe9c09",
   "metadata": {},
   "outputs": [
    {
     "data": {
      "application/vnd.microsoft.datawrangler.viewer.v0+json": {
       "columns": [
        {
         "name": "index",
         "rawType": "int64",
         "type": "integer"
        },
        {
         "name": "match_id",
         "rawType": "int64",
         "type": "integer"
        },
        {
         "name": "date",
         "rawType": "object",
         "type": "string"
        },
        {
         "name": "venue",
         "rawType": "object",
         "type": "string"
        },
        {
         "name": "team1",
         "rawType": "object",
         "type": "string"
        },
        {
         "name": "team2",
         "rawType": "object",
         "type": "string"
        },
        {
         "name": "stage",
         "rawType": "object",
         "type": "string"
        },
        {
         "name": "toss_winner",
         "rawType": "object",
         "type": "string"
        },
        {
         "name": "toss_decision",
         "rawType": "object",
         "type": "string"
        },
        {
         "name": "first_ings_score",
         "rawType": "int64",
         "type": "integer"
        },
        {
         "name": "first_ings_wkts",
         "rawType": "int64",
         "type": "integer"
        },
        {
         "name": "second_ings_score",
         "rawType": "int64",
         "type": "integer"
        },
        {
         "name": "second_ings_wkts",
         "rawType": "int64",
         "type": "integer"
        },
        {
         "name": "match_winner",
         "rawType": "object",
         "type": "string"
        },
        {
         "name": "won_by",
         "rawType": "object",
         "type": "string"
        },
        {
         "name": "margin",
         "rawType": "int64",
         "type": "integer"
        },
        {
         "name": "player_of_the_match",
         "rawType": "object",
         "type": "string"
        },
        {
         "name": "top_scorer",
         "rawType": "object",
         "type": "string"
        },
        {
         "name": "highscore",
         "rawType": "int64",
         "type": "integer"
        },
        {
         "name": "best_bowling",
         "rawType": "object",
         "type": "string"
        },
        {
         "name": "best_bowling_figure",
         "rawType": "object",
         "type": "string"
        }
       ],
       "ref": "e2ef8ac5-24e1-4c8e-8249-439c9702b2ef",
       "rows": [
        [
         "0",
         "1",
         "March 26,2022",
         "Wankhede Stadium, Mumbai",
         "Chennai",
         "Kolkata",
         "Group",
         "Kolkata",
         "Field",
         "131",
         "5",
         "133",
         "4",
         "Kolkata",
         "Wickets",
         "6",
         "Umesh Yadav",
         "MS Dhoni",
         "50",
         "Dwayne Bravo",
         "3--20"
        ],
        [
         "1",
         "2",
         "March 27,2022",
         "Brabourne Stadium, Mumbai",
         "Delhi",
         "Mumbai",
         "Group",
         "Delhi",
         "Field",
         "177",
         "5",
         "179",
         "6",
         "Delhi",
         "Wickets",
         "4",
         "Kuldeep Yadav",
         "Ishan Kishan",
         "81",
         "Kuldeep Yadav",
         "3--18"
        ],
        [
         "2",
         "3",
         "March 27,2022",
         "Dr DY Patil Sports Academy, Mumbai",
         "Banglore",
         "Punjab",
         "Group",
         "Punjab",
         "Field",
         "205",
         "2",
         "208",
         "5",
         "Punjab",
         "Wickets",
         "5",
         "Odean Smith",
         "Faf du Plessis",
         "88",
         "Mohammed Siraj",
         "2--59"
        ],
        [
         "3",
         "4",
         "March 28,2022",
         "Wankhede Stadium, Mumbai",
         "Gujarat",
         "Lucknow",
         "Group",
         "Gujarat",
         "Field",
         "158",
         "6",
         "161",
         "5",
         "Gujarat",
         "Wickets",
         "5",
         "Mohammed Shami",
         "Deepak Hooda",
         "55",
         "Mohammed Shami",
         "3--25"
        ],
        [
         "4",
         "5",
         "March 29,2022",
         "Maharashtra Cricket Association Stadium,Pune",
         "Hyderabad",
         "Rajasthan",
         "Group",
         "Hyderabad",
         "Field",
         "210",
         "6",
         "149",
         "7",
         "Rajasthan",
         "Runs",
         "61",
         "Sanju Samson",
         "Aiden Markram",
         "57",
         "Yuzvendra Chahal",
         "3--22"
        ],
        [
         "5",
         "6",
         "March 30,2022",
         "Dr DY Patil Sports Academy, Mumbai",
         "Banglore",
         "Kolkata",
         "Group",
         "Banglore",
         "Field",
         "128",
         "10",
         "132",
         "7",
         "Banglore",
         "Wickets",
         "3",
         "Wanindu Hasaranga",
         "Sherfane Rutherford",
         "28",
         "Wanindu Hasaranga",
         "4--20"
        ],
        [
         "6",
         "7",
         "March 31,2022",
         "Brabourne Stadium, Mumbai",
         "Chennai",
         "Lucknow",
         "Group",
         "Lucknow",
         "Field",
         "210",
         "7",
         "211",
         "4",
         "Lucknow",
         "Wickets",
         "6",
         "Evin Lewis",
         "Quinton de Kock",
         "61",
         "Ravi Bishnoi",
         "2--24"
        ],
        [
         "7",
         "8",
         "April 1,2022",
         "Wankhede Stadium, Mumbai",
         "Kolkata",
         "Punjab",
         "Group",
         "Kolkata",
         "Field",
         "137",
         "10",
         "141",
         "4",
         "Kolkata",
         "Wickets",
         "6",
         "Umesh Yadav",
         "Andre Russell",
         "70",
         "Umesh Yadav",
         "4--23"
        ],
        [
         "8",
         "9",
         "April 2,2022",
         "Dr DY Patil Sports Academy, Mumbai",
         "Mumbai",
         "Rajasthan",
         "Group",
         "Mumbai",
         "Field",
         "193",
         "8",
         "170",
         "8",
         "Rajasthan",
         "Runs",
         "23",
         "Jos Buttler",
         "Jos Buttler",
         "100",
         "Jasprit Bumrah",
         "3--17"
        ],
        [
         "9",
         "10",
         "April 2,2022",
         "Maharashtra Cricket Association Stadium,Pune",
         "Delhi",
         "Gujarat",
         "Group",
         "Delhi",
         "Field",
         "171",
         "6",
         "157",
         "9",
         "Gujarat",
         "Runs",
         "14",
         "Lockie Ferguson",
         "Shubman Gill",
         "84",
         "Lockie Ferguson",
         "4--28"
        ],
        [
         "10",
         "11",
         "April 3,2022",
         "Brabourne Stadium, Mumbai",
         "Chennai",
         "Punjab",
         "Group",
         "Chennai",
         "Field",
         "180",
         "8",
         "126",
         "10",
         "Punjab",
         "Runs",
         "54",
         "Liam Livingstone",
         "Liam Livingstone",
         "60",
         "Rahul Chahar",
         "3--25"
        ],
        [
         "11",
         "12",
         "April 4,2022",
         "Dr DY Patil Sports Academy, Mumbai",
         "Hyderabad",
         "Lucknow",
         "Group",
         "Hyderabad",
         "Field",
         "169",
         "7",
         "157",
         "9",
         "Lucknow",
         "Runs",
         "12",
         "Avesh Khan",
         "KL Rahul",
         "68",
         "Avesh Khan",
         "4--24"
        ],
        [
         "12",
         "13",
         "April 5,2022",
         "Wankhede Stadium, Mumbai",
         "Banglore",
         "Rajasthan",
         "Group",
         "Banglore",
         "Field",
         "169",
         "3",
         "173",
         "6",
         "Banglore",
         "Wickets",
         "4",
         "Dinesh Karthik",
         "Jos Buttler",
         "70",
         "Yuzvendra Chahal",
         "2--15"
        ],
        [
         "13",
         "14",
         "April 6,2022",
         "Maharashtra Cricket Association Stadium,Pune",
         "Kolkata",
         "Mumbai",
         "Group",
         "Kolkata",
         "Field",
         "161",
         "4",
         "162",
         "5",
         "Kolkata",
         "Wickets",
         "5",
         "Pat Cummins",
         "Pat Cummins",
         "56",
         "Murugan Ashwin",
         "2--25"
        ],
        [
         "14",
         "15",
         "April 7,2022",
         "Dr DY Patil Sports Academy, Mumbai",
         "Delhi",
         "Lucknow",
         "Group",
         "Lucknow",
         "Field",
         "149",
         "3",
         "155",
         "4",
         "Lucknow",
         "Wickets",
         "6",
         "Quinton de Kock",
         "Quinton de Kock",
         "80",
         "Ravi Bishnoi",
         "2--22"
        ],
        [
         "15",
         "16",
         "April 8,2022",
         "Brabourne Stadium, Mumbai",
         "Gujarat",
         "Punjab",
         "Group",
         "Gujarat",
         "Field",
         "189",
         "9",
         "190",
         "4",
         "Gujarat",
         "Wickets",
         "6",
         "Shubman Gill",
         "Shubman Gill",
         "96",
         "Rashid Khan",
         "3--22"
        ],
        [
         "16",
         "17",
         "April 9,2022",
         "Dr DY Patil Sports Academy, Mumbai",
         "Chennai",
         "Hyderabad",
         "Group",
         "Hyderabad",
         "Field",
         "154",
         "7",
         "155",
         "2",
         "Hyderabad",
         "Wickets",
         "8",
         "Abhishek Sharma",
         "Abhishek Sharma",
         "75",
         "Washington Sundar",
         "2--21"
        ],
        [
         "17",
         "18",
         "April 9,2022",
         "Maharashtra Cricket Association Stadium,Pune",
         "Banglore",
         "Mumbai",
         "Group",
         "Banglore",
         "Field",
         "151",
         "6",
         "152",
         "3",
         "Banglore",
         "Wickets",
         "7",
         "Anuj Rawat",
         "Suryakumar Yadav",
         "68",
         "Harshal Patel",
         "2--23"
        ],
        [
         "18",
         "19",
         "April 10,2022",
         "Brabourne Stadium, Mumbai",
         "Delhi",
         "Kolkata",
         "Group",
         "Kolkata",
         "Field",
         "215",
         "5",
         "171",
         "10",
         "Delhi",
         "Runs",
         "44",
         "Kuldeep Yadav",
         "David Warner",
         "61",
         "Kuldeep Yadav",
         "4--35"
        ],
        [
         "19",
         "20",
         "April 10,2022",
         "Wankhede Stadium, Mumbai",
         "Lucknow",
         "Rajasthan",
         "Group",
         "Lucknow",
         "Field",
         "165",
         "6",
         "162",
         "8",
         "Rajasthan",
         "Runs",
         "3",
         "Yuzvendra Chahal",
         "Shimron Hetmyer",
         "59",
         "Yuzvendra Chahal",
         "4--41"
        ],
        [
         "20",
         "21",
         "April11,2022",
         "Dr DY Patil Sports Academy, Mumbai",
         "Gujarat",
         "Hyderabad",
         "Group",
         "Hyderabad",
         "Field",
         "162",
         "7",
         "168",
         "2",
         "Hyderabad",
         "Wickets",
         "8",
         "Kane Williamson",
         "Kane Williamson",
         "57",
         "T Natarajan",
         "2--34"
        ],
        [
         "21",
         "22",
         "April 12,2022",
         "Dr DY Patil Sports Academy, Mumbai",
         "Banglore",
         "Chennai",
         "Group",
         "Banglore",
         "Field",
         "216",
         "4",
         "193",
         "9",
         "Chennai",
         "Runs",
         "23",
         "Shivam Dube",
         "Shivam Dube",
         "95",
         "Maheesh Theekshana",
         "4--33"
        ],
        [
         "22",
         "23",
         "April 13,2022",
         "Maharashtra Cricket Association Stadium,Pune",
         "Mumbai",
         "Punjab",
         "Group",
         "Mumbai",
         "Field",
         "198",
         "5",
         "186",
         "9",
         "Punjab",
         "Runs",
         "12",
         "Mayank Agarwal",
         "Shikhar Dhawan",
         "70",
         "Odean Smith",
         "4--30"
        ],
        [
         "23",
         "24",
         "April 14,2022",
         "Dr DY Patil Sports Academy, Mumbai",
         "Gujarat",
         "Rajasthan",
         "Group",
         "Rajasthan",
         "Field",
         "192",
         "4",
         "155",
         "9",
         "Gujarat",
         "Runs",
         "37",
         "Hardik Pandya",
         "Hardik Pandya",
         "87",
         "Lockie Ferguson",
         "3--23"
        ],
        [
         "24",
         "25",
         "April 15,2022",
         "Brabourne Stadium, Mumbai",
         "Hyderabad",
         "Kolkata",
         "Group",
         "Hyderabad",
         "Field",
         "175",
         "8",
         "176",
         "3",
         "Hyderabad",
         "Wickets",
         "7",
         "Rahul Tripathi",
         "Rahul Tripathi",
         "71",
         "T Natarajan",
         "3--37"
        ],
        [
         "25",
         "26",
         "April 16,2022",
         "Brabourne Stadium, Mumbai",
         "Lucknow",
         "Mumbai",
         "Group",
         "Mumbai",
         "Field",
         "199",
         "4",
         "181",
         "9",
         "Lucknow",
         "Runs",
         "18",
         "K L Rahul",
         "KL Rahul",
         "103",
         "Avesh Khan",
         "3--30"
        ],
        [
         "26",
         "27",
         "April 16,2022",
         "Wankhede Stadium, Mumbai",
         "Banglore",
         "Delhi",
         "Group",
         "Delhi",
         "Field",
         "189",
         "5",
         "173",
         "7",
         "Banglore",
         "Runs",
         "16",
         "Dinesh Karthik",
         "Dinesh Karthik",
         "66",
         "Josh Hazlewood",
         "3--28"
        ],
        [
         "27",
         "28",
         "April 17,2022",
         "Dr DY Patil Sports Academy, Mumbai",
         "Hyderabad",
         "Punjab",
         "Group",
         "Hyderabad",
         "Field",
         "151",
         "10",
         "152",
         "3",
         "Hyderabad",
         "Wickets",
         "7",
         "Umran Malik",
         "Liam Livingstone",
         "60",
         "Umran Malik",
         "4--28"
        ],
        [
         "28",
         "29",
         "April 17,2022",
         "Maharashtra Cricket Association Stadium,Pune",
         "Chennai",
         "Gujarat",
         "Group",
         "Gujarat",
         "Field",
         "169",
         "5",
         "170",
         "7",
         "Gujarat",
         "Wickets",
         "3",
         "David Miller",
         "David Miller",
         "94",
         "Dwayne Bravo",
         "3--23"
        ],
        [
         "29",
         "30",
         "April 18,2022",
         "Brabourne Stadium, Mumbai",
         "Kolkata",
         "Rajasthan",
         "Group",
         "Kolkata",
         "Field",
         "217",
         "5",
         "210",
         "10",
         "Rajasthan",
         "Runs",
         "7",
         "Yuzvendra Chahal",
         "Jos Buttler",
         "103",
         "Yuzvendra Chahal",
         "5--40"
        ],
        [
         "30",
         "31",
         "April 19,2022",
         "Dr DY Patil Sports Academy, Mumbai",
         "Banglore",
         "Lucknow",
         "Group",
         "Lucknow",
         "Field",
         "181",
         "6",
         "163",
         "8",
         "Banglore",
         "Runs",
         "18",
         "Faf du Plessis",
         "Faf du Plessis",
         "96",
         "Josh Hazlewood",
         "4--25"
        ],
        [
         "31",
         "32",
         "April 20,2022",
         "Brabourne Stadium, Mumbai",
         "Delhi",
         "Punjab",
         "Group",
         "Delhi",
         "Field",
         "115",
         "10",
         "119",
         "1",
         "Delhi",
         "Wickets",
         "9",
         "Kuldeep Yadav",
         "David Warner",
         "60",
         "Axar Patel",
         "2--10"
        ],
        [
         "32",
         "33",
         "April 21,2022",
         "Dr DY Patil Sports Academy, Mumbai",
         "Chennai",
         "Mumbai",
         "Group",
         "Chennai",
         "Field",
         "155",
         "7",
         "156",
         "7",
         "Chennai",
         "Wickets",
         "3",
         "Mukesh Choudhary",
         "Tilak Varma",
         "51",
         "Daniel Sams",
         "4--30"
        ],
        [
         "33",
         "34",
         "April 22,2022",
         "Wankhede Stadium, Mumbai",
         "Delhi",
         "Rajasthan",
         "Group",
         "Delhi",
         "Field",
         "222",
         "2",
         "207",
         "8",
         "Rajasthan",
         "Runs",
         "15",
         "Jos Buttler",
         "Jos Buttler",
         "116",
         "Prasidh Krishna",
         "3--22"
        ],
        [
         "34",
         "35",
         "April 23,2022",
         "Dr DY Patil Sports Academy, Mumbai",
         "Gujarat",
         "Kolkata",
         "Group",
         "Gujarat",
         "Bat",
         "156",
         "9",
         "148",
         "8",
         "Gujarat",
         "Runs",
         "8",
         "Rashid Khan",
         "Hardik Pandya",
         "67",
         "Andre Russell",
         "4--5"
        ],
        [
         "35",
         "36",
         "April 23,2022",
         "Brabourne Stadium, Mumbai",
         "Banglore",
         "Hyderabad",
         "Group",
         "Hyderabad",
         "Field",
         "68",
         "10",
         "72",
         "1",
         "Hyderabad",
         "Wickets",
         "9",
         "Marco Jansen",
         "Abhishek Sharma",
         "47",
         "T Natarajan",
         "3--10"
        ],
        [
         "36",
         "37",
         "April 24,2022",
         "Wankhede Stadium, Mumbai",
         "Lucknow",
         "Mumbai",
         "Group",
         "Mumbai",
         "Field",
         "168",
         "6",
         "132",
         "8",
         "Lucknow",
         "Runs",
         "36",
         "K L Rahul",
         "KL Rahul",
         "103",
         "Krunal Pandya",
         "3--19"
        ],
        [
         "37",
         "38",
         "April 25,2022",
         "Wankhede Stadium, Mumbai",
         "Chennai",
         "Punjab",
         "Group",
         "Chennai",
         "Field",
         "187",
         "4",
         "176",
         "6",
         "Punjab",
         "Runs",
         "11",
         "Shikhar Dhawan",
         "Shikhar Dhawan",
         "88",
         "Kagiso Rabada",
         "2--23"
        ],
        [
         "38",
         "39",
         "April 26,2022",
         "Maharashtra Cricket Association Stadium,Pune",
         "Banglore",
         "Rajasthan",
         "Group",
         "Banglore",
         "Field",
         "144",
         "8",
         "115",
         "10",
         "Rajasthan",
         "Runs",
         "29",
         "Riyan Parag",
         "Riyan Parag",
         "56",
         "Kuldeep Sen",
         "4--20"
        ],
        [
         "39",
         "40",
         "April 27,2022",
         "Wankhede Stadium, Mumbai",
         "Gujarat",
         "Hyderabad",
         "Group",
         "Gujarat",
         "Field",
         "195",
         "6",
         "199",
         "5",
         "Gujarat",
         "Wickets",
         "5",
         "Umran Malik",
         "W. Saha",
         "68",
         "Umran Malik",
         "5--25"
        ],
        [
         "40",
         "41",
         "April 28,2022",
         "Wankhede Stadium, Mumbai",
         "Delhi",
         "Kolkata",
         "Group",
         "Delhi",
         "Field",
         "146",
         "9",
         "150",
         "6",
         "Delhi",
         "Wickets",
         "4",
         "Kuldeep Yadav",
         "Nitish Rana",
         "57",
         "Kuldeep Yadav",
         "4--14"
        ],
        [
         "41",
         "42",
         "April 29,2022",
         "Maharashtra Cricket Association Stadium,Pune",
         "Lucknow",
         "Punjab",
         "Group",
         "Punjab",
         "Field",
         "153",
         "8",
         "133",
         "8",
         "Lucknow",
         "Runs",
         "20",
         "Krunal Pandya",
         "Quinton de Kock",
         "46",
         "Kagiso Rabada",
         "4--38"
        ],
        [
         "42",
         "43",
         "April 30,2022",
         "Brabourne Stadium, Mumbai",
         "Banglore",
         "Gujarat",
         "Group",
         "Banglore",
         "Bat",
         "170",
         "6",
         "174",
         "4",
         "Gujarat",
         "Wickets",
         "6",
         "Rahul Tewatia",
         "Virat Kohli",
         "58",
         "Pradeep Sangwan",
         "2--19"
        ],
        [
         "43",
         "44",
         "April 30,2022",
         "Dr DY Patil Sports Academy, Mumbai",
         "Mumbai",
         "Rajasthan",
         "Group",
         "Mumbai",
         "Field",
         "158",
         "6",
         "161",
         "5",
         "Mumbai",
         "Wickets",
         "5",
         "Suruakumar Yadav",
         "Jos Buttler",
         "67",
         "Rilley Meredith",
         "2--24"
        ],
        [
         "44",
         "45",
         "May 1,2022",
         "Wankhede Stadium, Mumbai",
         "Delhi",
         "Lucknow",
         "Group",
         "Lucknow",
         "Bat",
         "195",
         "3",
         "189",
         "7",
         "Lucknow",
         "Runs",
         "6",
         "Mohsin Khan",
         "KL Rahul",
         "77",
         "Mohsin Khan",
         "4--16"
        ],
        [
         "45",
         "46",
         "May 1,2022",
         "Maharashtra Cricket Association Stadium,Pune",
         "Chennai",
         "Hyderabad",
         "Group",
         "Hyderabad",
         "Field",
         "202",
         "2",
         "189",
         "6",
         "Chennai",
         "Runs",
         "13",
         "Ruturaj Gaikwad",
         "Ruturaj Gaikwad",
         "99",
         "Mukesh Choudhary",
         "4--46"
        ],
        [
         "46",
         "47",
         "May 2,2022",
         "Wankhede Stadium, Mumbai",
         "Kolkata",
         "Rajasthan",
         "Group",
         "Kolkata",
         "Field",
         "152",
         "5",
         "158",
         "3",
         "Kolkata",
         "Wickets",
         "7",
         "Rinku Singh",
         "Sanju Samson",
         "54",
         "Tim Southee",
         "2--46"
        ],
        [
         "47",
         "48",
         "May 3,2022",
         "Dr DY Patil Sports Academy, Mumbai",
         "Gujarat",
         "Punjab",
         "Group",
         "Gujarat",
         "Bat",
         "143",
         "8",
         "145",
         "2",
         "Punjab",
         "Wickets",
         "8",
         "Kagiso Rabada",
         "Sai Sudharsan",
         "65",
         "Kagiso Rabada",
         "4--33"
        ],
        [
         "48",
         "49",
         "May 4,2022",
         "Maharashtra Cricket Association Stadium,Pune",
         "Banglore",
         "Chennai",
         "Group",
         "Chennai",
         "Field",
         "173",
         "8",
         "160",
         "8",
         "Banglore",
         "Runs",
         "13",
         "Harshal Patel",
         "Devon Conway",
         "56",
         "Maheesh Theekshana",
         "3--27"
        ],
        [
         "49",
         "50",
         "May 5,2022",
         "Brabourne Stadium, Mumbai",
         "Delhi",
         "Hyderabad",
         "Group",
         "Hyderabad",
         "Field",
         "207",
         "3",
         "186",
         "8",
         "Delhi",
         "Runs",
         "21",
         "David Warner",
         "David Warner",
         "92",
         "Khaleel Ahmed",
         "3--30"
        ]
       ],
       "shape": {
        "columns": 20,
        "rows": 74
       }
      },
      "text/html": [
       "<div>\n",
       "<style scoped>\n",
       "    .dataframe tbody tr th:only-of-type {\n",
       "        vertical-align: middle;\n",
       "    }\n",
       "\n",
       "    .dataframe tbody tr th {\n",
       "        vertical-align: top;\n",
       "    }\n",
       "\n",
       "    .dataframe thead th {\n",
       "        text-align: right;\n",
       "    }\n",
       "</style>\n",
       "<table border=\"1\" class=\"dataframe\">\n",
       "  <thead>\n",
       "    <tr style=\"text-align: right;\">\n",
       "      <th></th>\n",
       "      <th>match_id</th>\n",
       "      <th>date</th>\n",
       "      <th>venue</th>\n",
       "      <th>team1</th>\n",
       "      <th>team2</th>\n",
       "      <th>stage</th>\n",
       "      <th>toss_winner</th>\n",
       "      <th>toss_decision</th>\n",
       "      <th>first_ings_score</th>\n",
       "      <th>first_ings_wkts</th>\n",
       "      <th>second_ings_score</th>\n",
       "      <th>second_ings_wkts</th>\n",
       "      <th>match_winner</th>\n",
       "      <th>won_by</th>\n",
       "      <th>margin</th>\n",
       "      <th>player_of_the_match</th>\n",
       "      <th>top_scorer</th>\n",
       "      <th>highscore</th>\n",
       "      <th>best_bowling</th>\n",
       "      <th>best_bowling_figure</th>\n",
       "    </tr>\n",
       "  </thead>\n",
       "  <tbody>\n",
       "    <tr>\n",
       "      <th>0</th>\n",
       "      <td>1</td>\n",
       "      <td>March 26,2022</td>\n",
       "      <td>Wankhede Stadium, Mumbai</td>\n",
       "      <td>Chennai</td>\n",
       "      <td>Kolkata</td>\n",
       "      <td>Group</td>\n",
       "      <td>Kolkata</td>\n",
       "      <td>Field</td>\n",
       "      <td>131</td>\n",
       "      <td>5</td>\n",
       "      <td>133</td>\n",
       "      <td>4</td>\n",
       "      <td>Kolkata</td>\n",
       "      <td>Wickets</td>\n",
       "      <td>6</td>\n",
       "      <td>Umesh Yadav</td>\n",
       "      <td>MS Dhoni</td>\n",
       "      <td>50</td>\n",
       "      <td>Dwayne Bravo</td>\n",
       "      <td>3--20</td>\n",
       "    </tr>\n",
       "    <tr>\n",
       "      <th>1</th>\n",
       "      <td>2</td>\n",
       "      <td>March 27,2022</td>\n",
       "      <td>Brabourne Stadium, Mumbai</td>\n",
       "      <td>Delhi</td>\n",
       "      <td>Mumbai</td>\n",
       "      <td>Group</td>\n",
       "      <td>Delhi</td>\n",
       "      <td>Field</td>\n",
       "      <td>177</td>\n",
       "      <td>5</td>\n",
       "      <td>179</td>\n",
       "      <td>6</td>\n",
       "      <td>Delhi</td>\n",
       "      <td>Wickets</td>\n",
       "      <td>4</td>\n",
       "      <td>Kuldeep Yadav</td>\n",
       "      <td>Ishan Kishan</td>\n",
       "      <td>81</td>\n",
       "      <td>Kuldeep Yadav</td>\n",
       "      <td>3--18</td>\n",
       "    </tr>\n",
       "    <tr>\n",
       "      <th>2</th>\n",
       "      <td>3</td>\n",
       "      <td>March 27,2022</td>\n",
       "      <td>Dr DY Patil Sports Academy, Mumbai</td>\n",
       "      <td>Banglore</td>\n",
       "      <td>Punjab</td>\n",
       "      <td>Group</td>\n",
       "      <td>Punjab</td>\n",
       "      <td>Field</td>\n",
       "      <td>205</td>\n",
       "      <td>2</td>\n",
       "      <td>208</td>\n",
       "      <td>5</td>\n",
       "      <td>Punjab</td>\n",
       "      <td>Wickets</td>\n",
       "      <td>5</td>\n",
       "      <td>Odean Smith</td>\n",
       "      <td>Faf du Plessis</td>\n",
       "      <td>88</td>\n",
       "      <td>Mohammed Siraj</td>\n",
       "      <td>2--59</td>\n",
       "    </tr>\n",
       "    <tr>\n",
       "      <th>3</th>\n",
       "      <td>4</td>\n",
       "      <td>March 28,2022</td>\n",
       "      <td>Wankhede Stadium, Mumbai</td>\n",
       "      <td>Gujarat</td>\n",
       "      <td>Lucknow</td>\n",
       "      <td>Group</td>\n",
       "      <td>Gujarat</td>\n",
       "      <td>Field</td>\n",
       "      <td>158</td>\n",
       "      <td>6</td>\n",
       "      <td>161</td>\n",
       "      <td>5</td>\n",
       "      <td>Gujarat</td>\n",
       "      <td>Wickets</td>\n",
       "      <td>5</td>\n",
       "      <td>Mohammed Shami</td>\n",
       "      <td>Deepak Hooda</td>\n",
       "      <td>55</td>\n",
       "      <td>Mohammed Shami</td>\n",
       "      <td>3--25</td>\n",
       "    </tr>\n",
       "    <tr>\n",
       "      <th>4</th>\n",
       "      <td>5</td>\n",
       "      <td>March 29,2022</td>\n",
       "      <td>Maharashtra Cricket Association Stadium,Pune</td>\n",
       "      <td>Hyderabad</td>\n",
       "      <td>Rajasthan</td>\n",
       "      <td>Group</td>\n",
       "      <td>Hyderabad</td>\n",
       "      <td>Field</td>\n",
       "      <td>210</td>\n",
       "      <td>6</td>\n",
       "      <td>149</td>\n",
       "      <td>7</td>\n",
       "      <td>Rajasthan</td>\n",
       "      <td>Runs</td>\n",
       "      <td>61</td>\n",
       "      <td>Sanju Samson</td>\n",
       "      <td>Aiden Markram</td>\n",
       "      <td>57</td>\n",
       "      <td>Yuzvendra Chahal</td>\n",
       "      <td>3--22</td>\n",
       "    </tr>\n",
       "    <tr>\n",
       "      <th>...</th>\n",
       "      <td>...</td>\n",
       "      <td>...</td>\n",
       "      <td>...</td>\n",
       "      <td>...</td>\n",
       "      <td>...</td>\n",
       "      <td>...</td>\n",
       "      <td>...</td>\n",
       "      <td>...</td>\n",
       "      <td>...</td>\n",
       "      <td>...</td>\n",
       "      <td>...</td>\n",
       "      <td>...</td>\n",
       "      <td>...</td>\n",
       "      <td>...</td>\n",
       "      <td>...</td>\n",
       "      <td>...</td>\n",
       "      <td>...</td>\n",
       "      <td>...</td>\n",
       "      <td>...</td>\n",
       "      <td>...</td>\n",
       "    </tr>\n",
       "    <tr>\n",
       "      <th>69</th>\n",
       "      <td>70</td>\n",
       "      <td>May 22,2022</td>\n",
       "      <td>Wankhede Stadium, Mumbai</td>\n",
       "      <td>Hyderabad</td>\n",
       "      <td>Punjab</td>\n",
       "      <td>Group</td>\n",
       "      <td>Hyderabad</td>\n",
       "      <td>Bat</td>\n",
       "      <td>157</td>\n",
       "      <td>8</td>\n",
       "      <td>160</td>\n",
       "      <td>5</td>\n",
       "      <td>Punjab</td>\n",
       "      <td>Wickets</td>\n",
       "      <td>5</td>\n",
       "      <td>Harpreet Brar</td>\n",
       "      <td>Liam Livingstone</td>\n",
       "      <td>49</td>\n",
       "      <td>Harpreet Brar</td>\n",
       "      <td>3--26</td>\n",
       "    </tr>\n",
       "    <tr>\n",
       "      <th>70</th>\n",
       "      <td>71</td>\n",
       "      <td>May 24,2022</td>\n",
       "      <td>Eden Gardens, Kolkata</td>\n",
       "      <td>Gujarat</td>\n",
       "      <td>Rajasthan</td>\n",
       "      <td>Playoff</td>\n",
       "      <td>Gujarat</td>\n",
       "      <td>Field</td>\n",
       "      <td>188</td>\n",
       "      <td>6</td>\n",
       "      <td>191</td>\n",
       "      <td>3</td>\n",
       "      <td>Gujarat</td>\n",
       "      <td>Wickets</td>\n",
       "      <td>7</td>\n",
       "      <td>David Miller</td>\n",
       "      <td>Jos Buttler</td>\n",
       "      <td>89</td>\n",
       "      <td>Hardik Pandya</td>\n",
       "      <td>1--14</td>\n",
       "    </tr>\n",
       "    <tr>\n",
       "      <th>71</th>\n",
       "      <td>72</td>\n",
       "      <td>May 25,2022</td>\n",
       "      <td>Eden Gardens, Kolkata</td>\n",
       "      <td>Banglore</td>\n",
       "      <td>Lucknow</td>\n",
       "      <td>Playoff</td>\n",
       "      <td>Lucknow</td>\n",
       "      <td>Field</td>\n",
       "      <td>207</td>\n",
       "      <td>4</td>\n",
       "      <td>193</td>\n",
       "      <td>6</td>\n",
       "      <td>Banglore</td>\n",
       "      <td>Runs</td>\n",
       "      <td>14</td>\n",
       "      <td>Rajat Patidar</td>\n",
       "      <td>Rajat Patidar</td>\n",
       "      <td>112</td>\n",
       "      <td>Josh Hazlewood</td>\n",
       "      <td>3--43</td>\n",
       "    </tr>\n",
       "    <tr>\n",
       "      <th>72</th>\n",
       "      <td>73</td>\n",
       "      <td>May 27,2022</td>\n",
       "      <td>Narendra Modi Stadium, Ahmedabad</td>\n",
       "      <td>Banglore</td>\n",
       "      <td>Rajasthan</td>\n",
       "      <td>Playoff</td>\n",
       "      <td>Rajasthan</td>\n",
       "      <td>Field</td>\n",
       "      <td>157</td>\n",
       "      <td>8</td>\n",
       "      <td>161</td>\n",
       "      <td>3</td>\n",
       "      <td>Rajasthan</td>\n",
       "      <td>Wickets</td>\n",
       "      <td>7</td>\n",
       "      <td>Jos Buttler</td>\n",
       "      <td>Jos Buttler</td>\n",
       "      <td>106</td>\n",
       "      <td>Prasidh Krishna</td>\n",
       "      <td>3--22</td>\n",
       "    </tr>\n",
       "    <tr>\n",
       "      <th>73</th>\n",
       "      <td>74</td>\n",
       "      <td>May 29,2022</td>\n",
       "      <td>Narendra Modi Stadium, Ahmedabad</td>\n",
       "      <td>Gujarat</td>\n",
       "      <td>Rajasthan</td>\n",
       "      <td>Final</td>\n",
       "      <td>Rajasthan</td>\n",
       "      <td>Bat</td>\n",
       "      <td>130</td>\n",
       "      <td>9</td>\n",
       "      <td>133</td>\n",
       "      <td>3</td>\n",
       "      <td>Gujarat</td>\n",
       "      <td>Wickets</td>\n",
       "      <td>7</td>\n",
       "      <td>Hardik Pandya</td>\n",
       "      <td>Shubman Gill</td>\n",
       "      <td>45</td>\n",
       "      <td>Hardik Pandya</td>\n",
       "      <td>3--17</td>\n",
       "    </tr>\n",
       "  </tbody>\n",
       "</table>\n",
       "<p>74 rows × 20 columns</p>\n",
       "</div>"
      ],
      "text/plain": [
       "    match_id           date                                         venue  \\\n",
       "0          1  March 26,2022                      Wankhede Stadium, Mumbai   \n",
       "1          2  March 27,2022                     Brabourne Stadium, Mumbai   \n",
       "2          3  March 27,2022            Dr DY Patil Sports Academy, Mumbai   \n",
       "3          4  March 28,2022                      Wankhede Stadium, Mumbai   \n",
       "4          5  March 29,2022  Maharashtra Cricket Association Stadium,Pune   \n",
       "..       ...            ...                                           ...   \n",
       "69        70    May 22,2022                      Wankhede Stadium, Mumbai   \n",
       "70        71    May 24,2022                         Eden Gardens, Kolkata   \n",
       "71        72    May 25,2022                         Eden Gardens, Kolkata   \n",
       "72        73    May 27,2022              Narendra Modi Stadium, Ahmedabad   \n",
       "73        74    May 29,2022              Narendra Modi Stadium, Ahmedabad   \n",
       "\n",
       "        team1      team2    stage toss_winner toss_decision  first_ings_score  \\\n",
       "0     Chennai    Kolkata    Group     Kolkata         Field               131   \n",
       "1       Delhi     Mumbai    Group       Delhi         Field               177   \n",
       "2    Banglore     Punjab    Group      Punjab         Field               205   \n",
       "3     Gujarat    Lucknow    Group     Gujarat         Field               158   \n",
       "4   Hyderabad  Rajasthan    Group   Hyderabad         Field               210   \n",
       "..        ...        ...      ...         ...           ...               ...   \n",
       "69  Hyderabad     Punjab    Group   Hyderabad           Bat               157   \n",
       "70    Gujarat  Rajasthan  Playoff     Gujarat         Field               188   \n",
       "71   Banglore    Lucknow  Playoff     Lucknow         Field               207   \n",
       "72   Banglore  Rajasthan  Playoff   Rajasthan         Field               157   \n",
       "73    Gujarat  Rajasthan    Final   Rajasthan           Bat               130   \n",
       "\n",
       "    first_ings_wkts  second_ings_score  second_ings_wkts match_winner  \\\n",
       "0                 5                133                 4      Kolkata   \n",
       "1                 5                179                 6        Delhi   \n",
       "2                 2                208                 5       Punjab   \n",
       "3                 6                161                 5      Gujarat   \n",
       "4                 6                149                 7    Rajasthan   \n",
       "..              ...                ...               ...          ...   \n",
       "69                8                160                 5       Punjab   \n",
       "70                6                191                 3      Gujarat   \n",
       "71                4                193                 6     Banglore   \n",
       "72                8                161                 3    Rajasthan   \n",
       "73                9                133                 3      Gujarat   \n",
       "\n",
       "     won_by  margin player_of_the_match        top_scorer  highscore  \\\n",
       "0   Wickets       6         Umesh Yadav          MS Dhoni         50   \n",
       "1   Wickets       4       Kuldeep Yadav      Ishan Kishan         81   \n",
       "2   Wickets       5         Odean Smith    Faf du Plessis         88   \n",
       "3   Wickets       5      Mohammed Shami      Deepak Hooda         55   \n",
       "4      Runs      61        Sanju Samson     Aiden Markram         57   \n",
       "..      ...     ...                 ...               ...        ...   \n",
       "69  Wickets       5       Harpreet Brar  Liam Livingstone         49   \n",
       "70  Wickets       7        David Miller       Jos Buttler         89   \n",
       "71     Runs      14       Rajat Patidar     Rajat Patidar        112   \n",
       "72  Wickets       7         Jos Buttler       Jos Buttler        106   \n",
       "73  Wickets       7       Hardik Pandya      Shubman Gill         45   \n",
       "\n",
       "        best_bowling best_bowling_figure  \n",
       "0       Dwayne Bravo               3--20  \n",
       "1      Kuldeep Yadav               3--18  \n",
       "2     Mohammed Siraj               2--59  \n",
       "3     Mohammed Shami               3--25  \n",
       "4   Yuzvendra Chahal               3--22  \n",
       "..               ...                 ...  \n",
       "69     Harpreet Brar               3--26  \n",
       "70     Hardik Pandya               1--14  \n",
       "71    Josh Hazlewood               3--43  \n",
       "72   Prasidh Krishna               3--22  \n",
       "73     Hardik Pandya               3--17  \n",
       "\n",
       "[74 rows x 20 columns]"
      ]
     },
     "execution_count": 4,
     "metadata": {},
     "output_type": "execute_result"
    }
   ],
   "source": [
    "df = pd.read_csv('IPL.csv')\n",
    "df"
   ]
  },
  {
   "cell_type": "code",
   "execution_count": 5,
   "id": "cf90eb54",
   "metadata": {},
   "outputs": [
    {
     "name": "stdout",
     "output_type": "stream",
     "text": [
      "<class 'pandas.core.frame.DataFrame'>\n",
      "RangeIndex: 74 entries, 0 to 73\n",
      "Data columns (total 20 columns):\n",
      " #   Column               Non-Null Count  Dtype \n",
      "---  ------               --------------  ----- \n",
      " 0   match_id             74 non-null     int64 \n",
      " 1   date                 74 non-null     object\n",
      " 2   venue                74 non-null     object\n",
      " 3   team1                74 non-null     object\n",
      " 4   team2                74 non-null     object\n",
      " 5   stage                74 non-null     object\n",
      " 6   toss_winner          74 non-null     object\n",
      " 7   toss_decision        74 non-null     object\n",
      " 8   first_ings_score     74 non-null     int64 \n",
      " 9   first_ings_wkts      74 non-null     int64 \n",
      " 10  second_ings_score    74 non-null     int64 \n",
      " 11  second_ings_wkts     74 non-null     int64 \n",
      " 12  match_winner         74 non-null     object\n",
      " 13  won_by               74 non-null     object\n",
      " 14  margin               74 non-null     int64 \n",
      " 15  player_of_the_match  74 non-null     object\n",
      " 16  top_scorer           74 non-null     object\n",
      " 17  highscore            74 non-null     int64 \n",
      " 18  best_bowling         74 non-null     object\n",
      " 19  best_bowling_figure  74 non-null     object\n",
      "dtypes: int64(7), object(13)\n",
      "memory usage: 11.7+ KB\n"
     ]
    }
   ],
   "source": [
    "df.info()"
   ]
  },
  {
   "cell_type": "code",
   "execution_count": 6,
   "id": "14c37be2",
   "metadata": {},
   "outputs": [
    {
     "data": {
      "text/plain": [
       "(74, 20)"
      ]
     },
     "execution_count": 6,
     "metadata": {},
     "output_type": "execute_result"
    }
   ],
   "source": [
    "df.shape"
   ]
  },
  {
   "cell_type": "code",
   "execution_count": 7,
   "id": "68750c0c",
   "metadata": {},
   "outputs": [
    {
     "data": {
      "application/vnd.microsoft.datawrangler.viewer.v0+json": {
       "columns": [
        {
         "name": "index",
         "rawType": "int64",
         "type": "integer"
        },
        {
         "name": "match_id",
         "rawType": "int64",
         "type": "integer"
        },
        {
         "name": "date",
         "rawType": "object",
         "type": "string"
        },
        {
         "name": "venue",
         "rawType": "object",
         "type": "string"
        },
        {
         "name": "team1",
         "rawType": "object",
         "type": "string"
        },
        {
         "name": "team2",
         "rawType": "object",
         "type": "string"
        },
        {
         "name": "stage",
         "rawType": "object",
         "type": "string"
        },
        {
         "name": "toss_winner",
         "rawType": "object",
         "type": "string"
        },
        {
         "name": "toss_decision",
         "rawType": "object",
         "type": "string"
        },
        {
         "name": "first_ings_score",
         "rawType": "int64",
         "type": "integer"
        },
        {
         "name": "first_ings_wkts",
         "rawType": "int64",
         "type": "integer"
        },
        {
         "name": "second_ings_score",
         "rawType": "int64",
         "type": "integer"
        },
        {
         "name": "second_ings_wkts",
         "rawType": "int64",
         "type": "integer"
        },
        {
         "name": "match_winner",
         "rawType": "object",
         "type": "string"
        },
        {
         "name": "won_by",
         "rawType": "object",
         "type": "string"
        },
        {
         "name": "margin",
         "rawType": "int64",
         "type": "integer"
        },
        {
         "name": "player_of_the_match",
         "rawType": "object",
         "type": "string"
        },
        {
         "name": "top_scorer",
         "rawType": "object",
         "type": "string"
        },
        {
         "name": "highscore",
         "rawType": "int64",
         "type": "integer"
        },
        {
         "name": "best_bowling",
         "rawType": "object",
         "type": "string"
        },
        {
         "name": "best_bowling_figure",
         "rawType": "object",
         "type": "string"
        }
       ],
       "ref": "7b243f84-65d0-454b-99ef-704ad2035f6d",
       "rows": [
        [
         "0",
         "1",
         "March 26,2022",
         "Wankhede Stadium, Mumbai",
         "Chennai",
         "Kolkata",
         "Group",
         "Kolkata",
         "Field",
         "131",
         "5",
         "133",
         "4",
         "Kolkata",
         "Wickets",
         "6",
         "Umesh Yadav",
         "MS Dhoni",
         "50",
         "Dwayne Bravo",
         "3--20"
        ],
        [
         "1",
         "2",
         "March 27,2022",
         "Brabourne Stadium, Mumbai",
         "Delhi",
         "Mumbai",
         "Group",
         "Delhi",
         "Field",
         "177",
         "5",
         "179",
         "6",
         "Delhi",
         "Wickets",
         "4",
         "Kuldeep Yadav",
         "Ishan Kishan",
         "81",
         "Kuldeep Yadav",
         "3--18"
        ],
        [
         "2",
         "3",
         "March 27,2022",
         "Dr DY Patil Sports Academy, Mumbai",
         "Banglore",
         "Punjab",
         "Group",
         "Punjab",
         "Field",
         "205",
         "2",
         "208",
         "5",
         "Punjab",
         "Wickets",
         "5",
         "Odean Smith",
         "Faf du Plessis",
         "88",
         "Mohammed Siraj",
         "2--59"
        ],
        [
         "3",
         "4",
         "March 28,2022",
         "Wankhede Stadium, Mumbai",
         "Gujarat",
         "Lucknow",
         "Group",
         "Gujarat",
         "Field",
         "158",
         "6",
         "161",
         "5",
         "Gujarat",
         "Wickets",
         "5",
         "Mohammed Shami",
         "Deepak Hooda",
         "55",
         "Mohammed Shami",
         "3--25"
        ],
        [
         "4",
         "5",
         "March 29,2022",
         "Maharashtra Cricket Association Stadium,Pune",
         "Hyderabad",
         "Rajasthan",
         "Group",
         "Hyderabad",
         "Field",
         "210",
         "6",
         "149",
         "7",
         "Rajasthan",
         "Runs",
         "61",
         "Sanju Samson",
         "Aiden Markram",
         "57",
         "Yuzvendra Chahal",
         "3--22"
        ]
       ],
       "shape": {
        "columns": 20,
        "rows": 5
       }
      },
      "text/html": [
       "<div>\n",
       "<style scoped>\n",
       "    .dataframe tbody tr th:only-of-type {\n",
       "        vertical-align: middle;\n",
       "    }\n",
       "\n",
       "    .dataframe tbody tr th {\n",
       "        vertical-align: top;\n",
       "    }\n",
       "\n",
       "    .dataframe thead th {\n",
       "        text-align: right;\n",
       "    }\n",
       "</style>\n",
       "<table border=\"1\" class=\"dataframe\">\n",
       "  <thead>\n",
       "    <tr style=\"text-align: right;\">\n",
       "      <th></th>\n",
       "      <th>match_id</th>\n",
       "      <th>date</th>\n",
       "      <th>venue</th>\n",
       "      <th>team1</th>\n",
       "      <th>team2</th>\n",
       "      <th>stage</th>\n",
       "      <th>toss_winner</th>\n",
       "      <th>toss_decision</th>\n",
       "      <th>first_ings_score</th>\n",
       "      <th>first_ings_wkts</th>\n",
       "      <th>second_ings_score</th>\n",
       "      <th>second_ings_wkts</th>\n",
       "      <th>match_winner</th>\n",
       "      <th>won_by</th>\n",
       "      <th>margin</th>\n",
       "      <th>player_of_the_match</th>\n",
       "      <th>top_scorer</th>\n",
       "      <th>highscore</th>\n",
       "      <th>best_bowling</th>\n",
       "      <th>best_bowling_figure</th>\n",
       "    </tr>\n",
       "  </thead>\n",
       "  <tbody>\n",
       "    <tr>\n",
       "      <th>0</th>\n",
       "      <td>1</td>\n",
       "      <td>March 26,2022</td>\n",
       "      <td>Wankhede Stadium, Mumbai</td>\n",
       "      <td>Chennai</td>\n",
       "      <td>Kolkata</td>\n",
       "      <td>Group</td>\n",
       "      <td>Kolkata</td>\n",
       "      <td>Field</td>\n",
       "      <td>131</td>\n",
       "      <td>5</td>\n",
       "      <td>133</td>\n",
       "      <td>4</td>\n",
       "      <td>Kolkata</td>\n",
       "      <td>Wickets</td>\n",
       "      <td>6</td>\n",
       "      <td>Umesh Yadav</td>\n",
       "      <td>MS Dhoni</td>\n",
       "      <td>50</td>\n",
       "      <td>Dwayne Bravo</td>\n",
       "      <td>3--20</td>\n",
       "    </tr>\n",
       "    <tr>\n",
       "      <th>1</th>\n",
       "      <td>2</td>\n",
       "      <td>March 27,2022</td>\n",
       "      <td>Brabourne Stadium, Mumbai</td>\n",
       "      <td>Delhi</td>\n",
       "      <td>Mumbai</td>\n",
       "      <td>Group</td>\n",
       "      <td>Delhi</td>\n",
       "      <td>Field</td>\n",
       "      <td>177</td>\n",
       "      <td>5</td>\n",
       "      <td>179</td>\n",
       "      <td>6</td>\n",
       "      <td>Delhi</td>\n",
       "      <td>Wickets</td>\n",
       "      <td>4</td>\n",
       "      <td>Kuldeep Yadav</td>\n",
       "      <td>Ishan Kishan</td>\n",
       "      <td>81</td>\n",
       "      <td>Kuldeep Yadav</td>\n",
       "      <td>3--18</td>\n",
       "    </tr>\n",
       "    <tr>\n",
       "      <th>2</th>\n",
       "      <td>3</td>\n",
       "      <td>March 27,2022</td>\n",
       "      <td>Dr DY Patil Sports Academy, Mumbai</td>\n",
       "      <td>Banglore</td>\n",
       "      <td>Punjab</td>\n",
       "      <td>Group</td>\n",
       "      <td>Punjab</td>\n",
       "      <td>Field</td>\n",
       "      <td>205</td>\n",
       "      <td>2</td>\n",
       "      <td>208</td>\n",
       "      <td>5</td>\n",
       "      <td>Punjab</td>\n",
       "      <td>Wickets</td>\n",
       "      <td>5</td>\n",
       "      <td>Odean Smith</td>\n",
       "      <td>Faf du Plessis</td>\n",
       "      <td>88</td>\n",
       "      <td>Mohammed Siraj</td>\n",
       "      <td>2--59</td>\n",
       "    </tr>\n",
       "    <tr>\n",
       "      <th>3</th>\n",
       "      <td>4</td>\n",
       "      <td>March 28,2022</td>\n",
       "      <td>Wankhede Stadium, Mumbai</td>\n",
       "      <td>Gujarat</td>\n",
       "      <td>Lucknow</td>\n",
       "      <td>Group</td>\n",
       "      <td>Gujarat</td>\n",
       "      <td>Field</td>\n",
       "      <td>158</td>\n",
       "      <td>6</td>\n",
       "      <td>161</td>\n",
       "      <td>5</td>\n",
       "      <td>Gujarat</td>\n",
       "      <td>Wickets</td>\n",
       "      <td>5</td>\n",
       "      <td>Mohammed Shami</td>\n",
       "      <td>Deepak Hooda</td>\n",
       "      <td>55</td>\n",
       "      <td>Mohammed Shami</td>\n",
       "      <td>3--25</td>\n",
       "    </tr>\n",
       "    <tr>\n",
       "      <th>4</th>\n",
       "      <td>5</td>\n",
       "      <td>March 29,2022</td>\n",
       "      <td>Maharashtra Cricket Association Stadium,Pune</td>\n",
       "      <td>Hyderabad</td>\n",
       "      <td>Rajasthan</td>\n",
       "      <td>Group</td>\n",
       "      <td>Hyderabad</td>\n",
       "      <td>Field</td>\n",
       "      <td>210</td>\n",
       "      <td>6</td>\n",
       "      <td>149</td>\n",
       "      <td>7</td>\n",
       "      <td>Rajasthan</td>\n",
       "      <td>Runs</td>\n",
       "      <td>61</td>\n",
       "      <td>Sanju Samson</td>\n",
       "      <td>Aiden Markram</td>\n",
       "      <td>57</td>\n",
       "      <td>Yuzvendra Chahal</td>\n",
       "      <td>3--22</td>\n",
       "    </tr>\n",
       "  </tbody>\n",
       "</table>\n",
       "</div>"
      ],
      "text/plain": [
       "   match_id           date                                         venue  \\\n",
       "0         1  March 26,2022                      Wankhede Stadium, Mumbai   \n",
       "1         2  March 27,2022                     Brabourne Stadium, Mumbai   \n",
       "2         3  March 27,2022            Dr DY Patil Sports Academy, Mumbai   \n",
       "3         4  March 28,2022                      Wankhede Stadium, Mumbai   \n",
       "4         5  March 29,2022  Maharashtra Cricket Association Stadium,Pune   \n",
       "\n",
       "       team1      team2  stage toss_winner toss_decision  first_ings_score  \\\n",
       "0    Chennai    Kolkata  Group     Kolkata         Field               131   \n",
       "1      Delhi     Mumbai  Group       Delhi         Field               177   \n",
       "2   Banglore     Punjab  Group      Punjab         Field               205   \n",
       "3    Gujarat    Lucknow  Group     Gujarat         Field               158   \n",
       "4  Hyderabad  Rajasthan  Group   Hyderabad         Field               210   \n",
       "\n",
       "   first_ings_wkts  second_ings_score  second_ings_wkts match_winner   won_by  \\\n",
       "0                5                133                 4      Kolkata  Wickets   \n",
       "1                5                179                 6        Delhi  Wickets   \n",
       "2                2                208                 5       Punjab  Wickets   \n",
       "3                6                161                 5      Gujarat  Wickets   \n",
       "4                6                149                 7    Rajasthan     Runs   \n",
       "\n",
       "   margin player_of_the_match      top_scorer  highscore      best_bowling  \\\n",
       "0       6         Umesh Yadav        MS Dhoni         50      Dwayne Bravo   \n",
       "1       4       Kuldeep Yadav    Ishan Kishan         81     Kuldeep Yadav   \n",
       "2       5         Odean Smith  Faf du Plessis         88    Mohammed Siraj   \n",
       "3       5      Mohammed Shami    Deepak Hooda         55    Mohammed Shami   \n",
       "4      61        Sanju Samson   Aiden Markram         57  Yuzvendra Chahal   \n",
       "\n",
       "  best_bowling_figure  \n",
       "0               3--20  \n",
       "1               3--18  \n",
       "2               2--59  \n",
       "3               3--25  \n",
       "4               3--22  "
      ]
     },
     "execution_count": 7,
     "metadata": {},
     "output_type": "execute_result"
    }
   ],
   "source": [
    "df.head()"
   ]
  },
  {
   "cell_type": "code",
   "execution_count": 8,
   "id": "4418ae80",
   "metadata": {},
   "outputs": [
    {
     "name": "stdout",
     "output_type": "stream",
     "text": [
      "Your rows are 74 and columns are 20\n"
     ]
    }
   ],
   "source": [
    "print(f\"Your rows are {df.shape[0]} and columns are {df.shape[1]}\")"
   ]
  },
  {
   "cell_type": "code",
   "execution_count": 9,
   "id": "b8b14529",
   "metadata": {},
   "outputs": [
    {
     "data": {
      "application/vnd.microsoft.datawrangler.viewer.v0+json": {
       "columns": [
        {
         "name": "index",
         "rawType": "object",
         "type": "string"
        },
        {
         "name": "0",
         "rawType": "int64",
         "type": "integer"
        }
       ],
       "ref": "8695bf78-a54f-4693-85c7-5a1c1fdfa9a5",
       "rows": [
        [
         "match_id",
         "0"
        ],
        [
         "date",
         "0"
        ],
        [
         "venue",
         "0"
        ],
        [
         "team1",
         "0"
        ],
        [
         "team2",
         "0"
        ],
        [
         "stage",
         "0"
        ],
        [
         "toss_winner",
         "0"
        ],
        [
         "toss_decision",
         "0"
        ],
        [
         "first_ings_score",
         "0"
        ],
        [
         "first_ings_wkts",
         "0"
        ],
        [
         "second_ings_score",
         "0"
        ],
        [
         "second_ings_wkts",
         "0"
        ],
        [
         "match_winner",
         "0"
        ],
        [
         "won_by",
         "0"
        ],
        [
         "margin",
         "0"
        ],
        [
         "player_of_the_match",
         "0"
        ],
        [
         "top_scorer",
         "0"
        ],
        [
         "highscore",
         "0"
        ],
        [
         "best_bowling",
         "0"
        ],
        [
         "best_bowling_figure",
         "0"
        ]
       ],
       "shape": {
        "columns": 1,
        "rows": 20
       }
      },
      "text/plain": [
       "match_id               0\n",
       "date                   0\n",
       "venue                  0\n",
       "team1                  0\n",
       "team2                  0\n",
       "stage                  0\n",
       "toss_winner            0\n",
       "toss_decision          0\n",
       "first_ings_score       0\n",
       "first_ings_wkts        0\n",
       "second_ings_score      0\n",
       "second_ings_wkts       0\n",
       "match_winner           0\n",
       "won_by                 0\n",
       "margin                 0\n",
       "player_of_the_match    0\n",
       "top_scorer             0\n",
       "highscore              0\n",
       "best_bowling           0\n",
       "best_bowling_figure    0\n",
       "dtype: int64"
      ]
     },
     "execution_count": 9,
     "metadata": {},
     "output_type": "execute_result"
    }
   ],
   "source": [
    "df.isnull().sum()"
   ]
  },
  {
   "cell_type": "markdown",
   "id": "d0e29263",
   "metadata": {},
   "source": [
    "Which team won the most matches?"
   ]
  },
  {
   "cell_type": "code",
   "execution_count": 10,
   "id": "ffb972ea",
   "metadata": {},
   "outputs": [
    {
     "data": {
      "text/plain": [
       "Text(0, 0.5, 'Team')"
      ]
     },
     "execution_count": 10,
     "metadata": {},
     "output_type": "execute_result"
    },
    {
     "data": {
      "image/png": "[encoded data removed]",
      "text/plain": [
       "<Figure size 640x480 with 1 Axes>"
      ]
     },
     "metadata": {},
     "output_type": "display_data"
    }
   ],
   "source": [
    "match_wins = df['match_winner'].value_counts()\n",
    "sns.barplot(y=match_wins.index, x=match_wins.values, palette='viridis')\n",
    "plt.title('Match Wins by Team')\n",
    "plt.xlabel('Number of Wins')\n",
    "plt.ylabel('Team')"
   ]
  },
  {
   "cell_type": "markdown",
   "id": "d8fc1312",
   "metadata": {},
   "source": [
    "Toss Decision Trends"
   ]
  },
  {
   "cell_type": "code",
   "execution_count": 11,
   "id": "0d902d49",
   "metadata": {},
   "outputs": [
    {
     "data": {
      "application/vnd.microsoft.datawrangler.viewer.v0+json": {
       "columns": [
        {
         "name": "index",
         "rawType": "int64",
         "type": "integer"
        },
        {
         "name": "match_id",
         "rawType": "int64",
         "type": "integer"
        },
        {
         "name": "date",
         "rawType": "object",
         "type": "string"
        },
        {
         "name": "venue",
         "rawType": "object",
         "type": "string"
        },
        {
         "name": "team1",
         "rawType": "object",
         "type": "string"
        },
        {
         "name": "team2",
         "rawType": "object",
         "type": "string"
        },
        {
         "name": "stage",
         "rawType": "object",
         "type": "string"
        },
        {
         "name": "toss_winner",
         "rawType": "object",
         "type": "string"
        },
        {
         "name": "toss_decision",
         "rawType": "object",
         "type": "string"
        },
        {
         "name": "first_ings_score",
         "rawType": "int64",
         "type": "integer"
        },
        {
         "name": "first_ings_wkts",
         "rawType": "int64",
         "type": "integer"
        },
        {
         "name": "second_ings_score",
         "rawType": "int64",
         "type": "integer"
        },
        {
         "name": "second_ings_wkts",
         "rawType": "int64",
         "type": "integer"
        },
        {
         "name": "match_winner",
         "rawType": "object",
         "type": "string"
        },
        {
         "name": "won_by",
         "rawType": "object",
         "type": "string"
        },
        {
         "name": "margin",
         "rawType": "int64",
         "type": "integer"
        },
        {
         "name": "player_of_the_match",
         "rawType": "object",
         "type": "string"
        },
        {
         "name": "top_scorer",
         "rawType": "object",
         "type": "string"
        },
        {
         "name": "highscore",
         "rawType": "int64",
         "type": "integer"
        },
        {
         "name": "best_bowling",
         "rawType": "object",
         "type": "string"
        },
        {
         "name": "best_bowling_figure",
         "rawType": "object",
         "type": "string"
        }
       ],
       "ref": "5cac600e-a61f-4e98-b7c7-875104c4df53",
       "rows": [
        [
         "0",
         "1",
         "March 26,2022",
         "Wankhede Stadium, Mumbai",
         "Chennai",
         "Kolkata",
         "Group",
         "Kolkata",
         "Field",
         "131",
         "5",
         "133",
         "4",
         "Kolkata",
         "Wickets",
         "6",
         "Umesh Yadav",
         "MS Dhoni",
         "50",
         "Dwayne Bravo",
         "3--20"
        ],
        [
         "1",
         "2",
         "March 27,2022",
         "Brabourne Stadium, Mumbai",
         "Delhi",
         "Mumbai",
         "Group",
         "Delhi",
         "Field",
         "177",
         "5",
         "179",
         "6",
         "Delhi",
         "Wickets",
         "4",
         "Kuldeep Yadav",
         "Ishan Kishan",
         "81",
         "Kuldeep Yadav",
         "3--18"
        ],
        [
         "2",
         "3",
         "March 27,2022",
         "Dr DY Patil Sports Academy, Mumbai",
         "Banglore",
         "Punjab",
         "Group",
         "Punjab",
         "Field",
         "205",
         "2",
         "208",
         "5",
         "Punjab",
         "Wickets",
         "5",
         "Odean Smith",
         "Faf du Plessis",
         "88",
         "Mohammed Siraj",
         "2--59"
        ],
        [
         "3",
         "4",
         "March 28,2022",
         "Wankhede Stadium, Mumbai",
         "Gujarat",
         "Lucknow",
         "Group",
         "Gujarat",
         "Field",
         "158",
         "6",
         "161",
         "5",
         "Gujarat",
         "Wickets",
         "5",
         "Mohammed Shami",
         "Deepak Hooda",
         "55",
         "Mohammed Shami",
         "3--25"
        ],
        [
         "4",
         "5",
         "March 29,2022",
         "Maharashtra Cricket Association Stadium,Pune",
         "Hyderabad",
         "Rajasthan",
         "Group",
         "Hyderabad",
         "Field",
         "210",
         "6",
         "149",
         "7",
         "Rajasthan",
         "Runs",
         "61",
         "Sanju Samson",
         "Aiden Markram",
         "57",
         "Yuzvendra Chahal",
         "3--22"
        ]
       ],
       "shape": {
        "columns": 20,
        "rows": 5
       }
      },
      "text/html": [
       "<div>\n",
       "<style scoped>\n",
       "    .dataframe tbody tr th:only-of-type {\n",
       "        vertical-align: middle;\n",
       "    }\n",
       "\n",
       "    .dataframe tbody tr th {\n",
       "        vertical-align: top;\n",
       "    }\n",
       "\n",
       "    .dataframe thead th {\n",
       "        text-align: right;\n",
       "    }\n",
       "</style>\n",
       "<table border=\"1\" class=\"dataframe\">\n",
       "  <thead>\n",
       "    <tr style=\"text-align: right;\">\n",
       "      <th></th>\n",
       "      <th>match_id</th>\n",
       "      <th>date</th>\n",
       "      <th>venue</th>\n",
       "      <th>team1</th>\n",
       "      <th>team2</th>\n",
       "      <th>stage</th>\n",
       "      <th>toss_winner</th>\n",
       "      <th>toss_decision</th>\n",
       "      <th>first_ings_score</th>\n",
       "      <th>first_ings_wkts</th>\n",
       "      <th>second_ings_score</th>\n",
       "      <th>second_ings_wkts</th>\n",
       "      <th>match_winner</th>\n",
       "      <th>won_by</th>\n",
       "      <th>margin</th>\n",
       "      <th>player_of_the_match</th>\n",
       "      <th>top_scorer</th>\n",
       "      <th>highscore</th>\n",
       "      <th>best_bowling</th>\n",
       "      <th>best_bowling_figure</th>\n",
       "    </tr>\n",
       "  </thead>\n",
       "  <tbody>\n",
       "    <tr>\n",
       "      <th>0</th>\n",
       "      <td>1</td>\n",
       "      <td>March 26,2022</td>\n",
       "      <td>Wankhede Stadium, Mumbai</td>\n",
       "      <td>Chennai</td>\n",
       "      <td>Kolkata</td>\n",
       "      <td>Group</td>\n",
       "      <td>Kolkata</td>\n",
       "      <td>Field</td>\n",
       "      <td>131</td>\n",
       "      <td>5</td>\n",
       "      <td>133</td>\n",
       "      <td>4</td>\n",
       "      <td>Kolkata</td>\n",
       "      <td>Wickets</td>\n",
       "      <td>6</td>\n",
       "      <td>Umesh Yadav</td>\n",
       "      <td>MS Dhoni</td>\n",
       "      <td>50</td>\n",
       "      <td>Dwayne Bravo</td>\n",
       "      <td>3--20</td>\n",
       "    </tr>\n",
       "    <tr>\n",
       "      <th>1</th>\n",
       "      <td>2</td>\n",
       "      <td>March 27,2022</td>\n",
       "      <td>Brabourne Stadium, Mumbai</td>\n",
       "      <td>Delhi</td>\n",
       "      <td>Mumbai</td>\n",
       "      <td>Group</td>\n",
       "      <td>Delhi</td>\n",
       "      <td>Field</td>\n",
       "      <td>177</td>\n",
       "      <td>5</td>\n",
       "      <td>179</td>\n",
       "      <td>6</td>\n",
       "      <td>Delhi</td>\n",
       "      <td>Wickets</td>\n",
       "      <td>4</td>\n",
       "      <td>Kuldeep Yadav</td>\n",
       "      <td>Ishan Kishan</td>\n",
       "      <td>81</td>\n",
       "      <td>Kuldeep Yadav</td>\n",
       "      <td>3--18</td>\n",
       "    </tr>\n",
       "    <tr>\n",
       "      <th>2</th>\n",
       "      <td>3</td>\n",
       "      <td>March 27,2022</td>\n",
       "      <td>Dr DY Patil Sports Academy, Mumbai</td>\n",
       "      <td>Banglore</td>\n",
       "      <td>Punjab</td>\n",
       "      <td>Group</td>\n",
       "      <td>Punjab</td>\n",
       "      <td>Field</td>\n",
       "      <td>205</td>\n",
       "      <td>2</td>\n",
       "      <td>208</td>\n",
       "      <td>5</td>\n",
       "      <td>Punjab</td>\n",
       "      <td>Wickets</td>\n",
       "      <td>5</td>\n",
       "      <td>Odean Smith</td>\n",
       "      <td>Faf du Plessis</td>\n",
       "      <td>88</td>\n",
       "      <td>Mohammed Siraj</td>\n",
       "      <td>2--59</td>\n",
       "    </tr>\n",
       "    <tr>\n",
       "      <th>3</th>\n",
       "      <td>4</td>\n",
       "      <td>March 28,2022</td>\n",
       "      <td>Wankhede Stadium, Mumbai</td>\n",
       "      <td>Gujarat</td>\n",
       "      <td>Lucknow</td>\n",
       "      <td>Group</td>\n",
       "      <td>Gujarat</td>\n",
       "      <td>Field</td>\n",
       "      <td>158</td>\n",
       "      <td>6</td>\n",
       "      <td>161</td>\n",
       "      <td>5</td>\n",
       "      <td>Gujarat</td>\n",
       "      <td>Wickets</td>\n",
       "      <td>5</td>\n",
       "      <td>Mohammed Shami</td>\n",
       "      <td>Deepak Hooda</td>\n",
       "      <td>55</td>\n",
       "      <td>Mohammed Shami</td>\n",
       "      <td>3--25</td>\n",
       "    </tr>\n",
       "    <tr>\n",
       "      <th>4</th>\n",
       "      <td>5</td>\n",
       "      <td>March 29,2022</td>\n",
       "      <td>Maharashtra Cricket Association Stadium,Pune</td>\n",
       "      <td>Hyderabad</td>\n",
       "      <td>Rajasthan</td>\n",
       "      <td>Group</td>\n",
       "      <td>Hyderabad</td>\n",
       "      <td>Field</td>\n",
       "      <td>210</td>\n",
       "      <td>6</td>\n",
       "      <td>149</td>\n",
       "      <td>7</td>\n",
       "      <td>Rajasthan</td>\n",
       "      <td>Runs</td>\n",
       "      <td>61</td>\n",
       "      <td>Sanju Samson</td>\n",
       "      <td>Aiden Markram</td>\n",
       "      <td>57</td>\n",
       "      <td>Yuzvendra Chahal</td>\n",
       "      <td>3--22</td>\n",
       "    </tr>\n",
       "  </tbody>\n",
       "</table>\n",
       "</div>"
      ],
      "text/plain": [
       "   match_id           date                                         venue  \\\n",
       "0         1  March 26,2022                      Wankhede Stadium, Mumbai   \n",
       "1         2  March 27,2022                     Brabourne Stadium, Mumbai   \n",
       "2         3  March 27,2022            Dr DY Patil Sports Academy, Mumbai   \n",
       "3         4  March 28,2022                      Wankhede Stadium, Mumbai   \n",
       "4         5  March 29,2022  Maharashtra Cricket Association Stadium,Pune   \n",
       "\n",
       "       team1      team2  stage toss_winner toss_decision  first_ings_score  \\\n",
       "0    Chennai    Kolkata  Group     Kolkata         Field               131   \n",
       "1      Delhi     Mumbai  Group       Delhi         Field               177   \n",
       "2   Banglore     Punjab  Group      Punjab         Field               205   \n",
       "3    Gujarat    Lucknow  Group     Gujarat         Field               158   \n",
       "4  Hyderabad  Rajasthan  Group   Hyderabad         Field               210   \n",
       "\n",
       "   first_ings_wkts  second_ings_score  second_ings_wkts match_winner   won_by  \\\n",
       "0                5                133                 4      Kolkata  Wickets   \n",
       "1                5                179                 6        Delhi  Wickets   \n",
       "2                2                208                 5       Punjab  Wickets   \n",
       "3                6                161                 5      Gujarat  Wickets   \n",
       "4                6                149                 7    Rajasthan     Runs   \n",
       "\n",
       "   margin player_of_the_match      top_scorer  highscore      best_bowling  \\\n",
       "0       6         Umesh Yadav        MS Dhoni         50      Dwayne Bravo   \n",
       "1       4       Kuldeep Yadav    Ishan Kishan         81     Kuldeep Yadav   \n",
       "2       5         Odean Smith  Faf du Plessis         88    Mohammed Siraj   \n",
       "3       5      Mohammed Shami    Deepak Hooda         55    Mohammed Shami   \n",
       "4      61        Sanju Samson   Aiden Markram         57  Yuzvendra Chahal   \n",
       "\n",
       "  best_bowling_figure  \n",
       "0               3--20  \n",
       "1               3--18  \n",
       "2               2--59  \n",
       "3               3--25  \n",
       "4               3--22  "
      ]
     },
     "execution_count": 11,
     "metadata": {},
     "output_type": "execute_result"
    }
   ],
   "source": [
    "df.head()"
   ]
  },
  {
   "cell_type": "code",
   "execution_count": 12,
   "id": "9ecd7954",
   "metadata": {},
   "outputs": [
    {
     "data": {
      "text/plain": [
       "Text(0, 0.5, 'Count')"
      ]
     },
     "execution_count": 12,
     "metadata": {},
     "output_type": "execute_result"
    },
    {
     "data": {
      "image/png": "[encoded data removed]",
      "text/plain": [
       "<Figure size 640x480 with 1 Axes>"
      ]
     },
     "metadata": {},
     "output_type": "display_data"
    }
   ],
   "source": [
    "sns.countplot(x=df['toss_decision'], palette='rainbow')\n",
    "plt.title('Toss Decision Distribution')\n",
    "plt.xlabel('Toss Decision')\n",
    "plt.ylabel('Count')"
   ]
  },
  {
   "cell_type": "markdown",
   "id": "4a6889bb",
   "metadata": {},
   "source": [
    "Toss Winner vs Match Winner"
   ]
  },
  {
   "cell_type": "code",
   "execution_count": 13,
   "id": "59e1567a",
   "metadata": {},
   "outputs": [
    {
     "name": "stdout",
     "output_type": "stream",
     "text": [
      "Percentage of matches won by the toss winner: 48.65%\n"
     ]
    }
   ],
   "source": [
    "count = df[df['toss_winner'] == df['match_winner']]['match_id'].count()\n",
    "\n",
    "percentage = (count * 100) / df.shape[0]\n",
    "\n",
    "print(f\"Percentage of matches won by the toss winner: {percentage:.2f}%\")"
   ]
  },
  {
   "cell_type": "markdown",
   "id": "2454cbb9",
   "metadata": {},
   "source": [
    "How do teams win? (Runs vs Wickets)"
   ]
  },
  {
   "cell_type": "code",
   "execution_count": 14,
   "id": "4aca9788",
   "metadata": {},
   "outputs": [
    {
     "data": {
      "text/plain": [
       "Text(0, 0.5, 'Count')"
      ]
     },
     "execution_count": 14,
     "metadata": {},
     "output_type": "execute_result"
    },
    {
     "data": {
      "image/png": "[encoded data removed]",
      "text/plain": [
       "<Figure size 640x480 with 1 Axes>"
      ]
     },
     "metadata": {},
     "output_type": "display_data"
    }
   ],
   "source": [
    "sns.countplot(x = df['won_by'])\n",
    "plt.title('Matches Won By')\n",
    "plt.xlabel('Winning Method')\n",
    "plt.ylabel('Count')"
   ]
  },
  {
   "cell_type": "markdown",
   "id": "57d58a1a",
   "metadata": {},
   "source": [
    "Most \"Player of the Match\" Awards"
   ]
  },
  {
   "cell_type": "code",
   "execution_count": 17,
   "id": "cb14393f",
   "metadata": {},
   "outputs": [
    {
     "data": {
      "application/vnd.microsoft.datawrangler.viewer.v0+json": {
       "columns": [
        {
         "name": "player_of_the_match",
         "rawType": "object",
         "type": "string"
        },
        {
         "name": "count",
         "rawType": "int64",
         "type": "integer"
        }
       ],
       "ref": "7593e824-5adb-43da-991b-8a40b2a7d3e0",
       "rows": [
        [
         "Kuldeep Yadav",
         "4"
        ],
        [
         "Jos Buttler",
         "3"
        ],
        [
         "Wanindu Hasaranga",
         "2"
        ],
        [
         "Umesh Yadav",
         "2"
        ],
        [
         "Quinton de Kock",
         "2"
        ],
        [
         "Shubman Gill",
         "2"
        ],
        [
         "Avesh Khan",
         "2"
        ],
        [
         "Dinesh Karthik",
         "2"
        ],
        [
         "Hardik Pandya",
         "2"
        ],
        [
         "Rahul Tripathi",
         "2"
        ]
       ],
       "shape": {
        "columns": 1,
        "rows": 10
       }
      },
      "text/plain": [
       "player_of_the_match\n",
       "Kuldeep Yadav        4\n",
       "Jos Buttler          3\n",
       "Wanindu Hasaranga    2\n",
       "Umesh Yadav          2\n",
       "Quinton de Kock      2\n",
       "Shubman Gill         2\n",
       "Avesh Khan           2\n",
       "Dinesh Karthik       2\n",
       "Hardik Pandya        2\n",
       "Rahul Tripathi       2\n",
       "Name: count, dtype: int64"
      ]
     },
     "execution_count": 17,
     "metadata": {},
     "output_type": "execute_result"
    }
   ],
   "source": [
    "count = df['player_of_the_match'].value_counts().head(10)\n",
    "count"
   ]
  },
  {
   "cell_type": "code",
   "execution_count": 20,
   "id": "fb324916",
   "metadata": {},
   "outputs": [
    {
     "data": {
      "text/plain": [
       "Text(0, 0.5, 'Player')"
      ]
     },
     "execution_count": 20,
     "metadata": {},
     "output_type": "execute_result"
    },
    {
     "data": {
      "image/png": "[encoded data removed]",
      "text/plain": [
       "<Figure size 640x480 with 1 Axes>"
      ]
     },
     "metadata": {},
     "output_type": "display_data"
    }
   ],
   "source": [
    "sns.barplot(y=count.index, x=count.values, palette='mako')\n",
    "plt.title('Top 10 Players of the Match')\n",
    "plt.xlabel('Number of Times Awarded')\n",
    "plt.ylabel('Player')\n"
   ]
  },
  {
   "cell_type": "markdown",
   "id": "ec1d843f",
   "metadata": {},
   "source": [
    "Top Scorers in the tournament"
   ]
  },
  {
   "cell_type": "code",
   "execution_count": null,
   "id": "1f07cdc6",
   "metadata": {},
   "outputs": [
    {
     "data": {
      "application/vnd.microsoft.datawrangler.viewer.v0+json": {
       "columns": [
        {
         "name": "top_scorer",
         "rawType": "object",
         "type": "string"
        },
        {
         "name": "highscore",
         "rawType": "int64",
         "type": "integer"
        }
       ],
       "ref": "ca6e1653-ae1e-4230-b035-b2236f613dd0",
       "rows": [
        [
         "Jos Buttler",
         "651"
        ],
        [
         "Quinton de Kock",
         "377"
        ]
       ],
       "shape": {
        "columns": 1,
        "rows": 2
       }
      },
      "text/plain": [
       "top_scorer\n",
       "Jos Buttler        651\n",
       "Quinton de Kock    377\n",
       "Name: highscore, dtype: int64"
      ]
     },
     "execution_count": 28,
     "metadata": {},
     "output_type": "execute_result"
    }
   ],
   "source": [
    "high = df.groupby('top_scorer')['highscore'].sum().sort_values(ascending=False).head(2)\n"
   ]
  },
  {
   "cell_type": "code",
   "execution_count": 31,
   "id": "c4207b9f",
   "metadata": {},
   "outputs": [
    {
     "data": {
      "text/plain": [
       "<Axes: ylabel='top_scorer'>"
      ]
     },
     "execution_count": 31,
     "metadata": {},
     "output_type": "execute_result"
    },
    {
     "data": {
      "image/png": "[encoded data removed]",
      "text/plain": [
       "<Figure size 640x480 with 1 Axes>"
      ]
     },
     "metadata": {},
     "output_type": "display_data"
    }
   ],
   "source": [
    "high.plot(kind='barh', color='green')"
   ]
  },
  {
   "cell_type": "markdown",
   "id": "234bcdb6",
   "metadata": {},
   "source": [
    "10 Best Bowling Figures"
   ]
  },
  {
   "cell_type": "code",
   "execution_count": 40,
   "id": "4fcfc36d",
   "metadata": {},
   "outputs": [
    {
     "data": {
      "text/plain": [
       "<Axes: ylabel='best_bowling'>"
      ]
     },
     "execution_count": 40,
     "metadata": {},
     "output_type": "execute_result"
    },
    {
     "data": {
      "image/png": "[encoded data removed]",
      "text/plain": [
       "<Figure size 640x480 with 1 Axes>"
      ]
     },
     "metadata": {},
     "output_type": "display_data"
    }
   ],
   "source": [
    "df['hightest_wicket'] = df['best_bowling_figure'].apply(lambda x: x.split('--')[0])\n",
    "\n",
    "df['hightest_wicket'] = df['hightest_wicket'].astype(int)\n",
    "\n",
    "top_bowler = df.groupby('best_bowling')['hightest_wicket'].sum().sort_values(ascending=False).head(10)\n",
    "\n",
    "top_bowler.plot(kind='barh')"
   ]
  },
  {
   "cell_type": "markdown",
   "id": "4680a61a",
   "metadata": {},
   "source": [
    "Most Matches Played by Venue"
   ]
  },
  {
   "cell_type": "code",
   "execution_count": 42,
   "id": "ebec4df4",
   "metadata": {},
   "outputs": [
    {
     "data": {
      "application/vnd.microsoft.datawrangler.viewer.v0+json": {
       "columns": [
        {
         "name": "venue",
         "rawType": "object",
         "type": "string"
        },
        {
         "name": "count",
         "rawType": "int64",
         "type": "integer"
        }
       ],
       "ref": "c1d84927-d3df-458c-93c0-80d8d2785569",
       "rows": [
        [
         "Wankhede Stadium, Mumbai",
         "21"
        ],
        [
         "Dr DY Patil Sports Academy, Mumbai",
         "20"
        ],
        [
         "Brabourne Stadium, Mumbai",
         "16"
        ],
        [
         "Maharashtra Cricket Association Stadium,Pune",
         "13"
        ],
        [
         "Eden Gardens, Kolkata",
         "2"
        ],
        [
         "Narendra Modi Stadium, Ahmedabad",
         "2"
        ]
       ],
       "shape": {
        "columns": 1,
        "rows": 6
       }
      },
      "text/plain": [
       "venue\n",
       "Wankhede Stadium, Mumbai                        21\n",
       "Dr DY Patil Sports Academy, Mumbai              20\n",
       "Brabourne Stadium, Mumbai                       16\n",
       "Maharashtra Cricket Association Stadium,Pune    13\n",
       "Eden Gardens, Kolkata                            2\n",
       "Narendra Modi Stadium, Ahmedabad                 2\n",
       "Name: count, dtype: int64"
      ]
     },
     "execution_count": 42,
     "metadata": {},
     "output_type": "execute_result"
    }
   ],
   "source": [
    "venue_count = df['venue'].value_counts().head(10)\n",
    "venue_count"
   ]
  },
  {
   "cell_type": "code",
   "execution_count": 44,
   "id": "2d8f27c8",
   "metadata": {},
   "outputs": [
    {
     "data": {
      "text/plain": [
       "<Axes: ylabel='venue'>"
      ]
     },
     "execution_count": 44,
     "metadata": {},
     "output_type": "execute_result"
    },
    {
     "data": {
      "image/png": "[encoded data removed]",
      "text/plain": [
       "<Figure size 640x480 with 1 Axes>"
      ]
     },
     "metadata": {},
     "output_type": "display_data"
    }
   ],
   "source": [
    "sns.barplot(y=venue_count.index, x=venue_count.values, palette='mako')"
   ]
  },
  {
   "cell_type": "markdown",
   "id": "2eea061f",
   "metadata": {},
   "source": [
    "Who won the highest margin by runs?"
   ]
  },
  {
   "cell_type": "code",
   "execution_count": 47,
   "id": "9ff99493",
   "metadata": {},
   "outputs": [
    {
     "data": {
      "application/vnd.microsoft.datawrangler.viewer.v0+json": {
       "columns": [
        {
         "name": "index",
         "rawType": "int64",
         "type": "integer"
        },
        {
         "name": "match_winner",
         "rawType": "object",
         "type": "string"
        },
        {
         "name": "margin",
         "rawType": "int64",
         "type": "integer"
        }
       ],
       "ref": "309d58ba-5305-402f-b95b-87f003dba722",
       "rows": [
        [
         "54",
         "Chennai",
         "91"
        ]
       ],
       "shape": {
        "columns": 2,
        "rows": 1
       }
      },
      "text/html": [
       "<div>\n",
       "<style scoped>\n",
       "    .dataframe tbody tr th:only-of-type {\n",
       "        vertical-align: middle;\n",
       "    }\n",
       "\n",
       "    .dataframe tbody tr th {\n",
       "        vertical-align: top;\n",
       "    }\n",
       "\n",
       "    .dataframe thead th {\n",
       "        text-align: right;\n",
       "    }\n",
       "</style>\n",
       "<table border=\"1\" class=\"dataframe\">\n",
       "  <thead>\n",
       "    <tr style=\"text-align: right;\">\n",
       "      <th></th>\n",
       "      <th>match_winner</th>\n",
       "      <th>margin</th>\n",
       "    </tr>\n",
       "  </thead>\n",
       "  <tbody>\n",
       "    <tr>\n",
       "      <th>54</th>\n",
       "      <td>Chennai</td>\n",
       "      <td>91</td>\n",
       "    </tr>\n",
       "  </tbody>\n",
       "</table>\n",
       "</div>"
      ],
      "text/plain": [
       "   match_winner  margin\n",
       "54      Chennai      91"
      ]
     },
     "execution_count": 47,
     "metadata": {},
     "output_type": "execute_result"
    }
   ],
   "source": [
    "df[df['won_by'] == \"Runs\"].sort_values(by = 'margin', ascending=False).head(1)[['match_winner','margin']]"
   ]
  },
  {
   "cell_type": "markdown",
   "id": "e469b570",
   "metadata": {},
   "source": [
    "Which player had the highest individual score?"
   ]
  },
  {
   "cell_type": "code",
   "execution_count": 50,
   "id": "06f15126",
   "metadata": {},
   "outputs": [
    {
     "data": {
      "application/vnd.microsoft.datawrangler.viewer.v0+json": {
       "columns": [
        {
         "name": "index",
         "rawType": "int64",
         "type": "integer"
        },
        {
         "name": "top_scorer",
         "rawType": "object",
         "type": "string"
        },
        {
         "name": "highscore",
         "rawType": "int64",
         "type": "integer"
        }
       ],
       "ref": "e61c0068-969b-42d3-b5ce-48571e98f7b7",
       "rows": [
        [
         "65",
         "Quinton de Kock",
         "140"
        ]
       ],
       "shape": {
        "columns": 2,
        "rows": 1
       }
      },
      "text/html": [
       "<div>\n",
       "<style scoped>\n",
       "    .dataframe tbody tr th:only-of-type {\n",
       "        vertical-align: middle;\n",
       "    }\n",
       "\n",
       "    .dataframe tbody tr th {\n",
       "        vertical-align: top;\n",
       "    }\n",
       "\n",
       "    .dataframe thead th {\n",
       "        text-align: right;\n",
       "    }\n",
       "</style>\n",
       "<table border=\"1\" class=\"dataframe\">\n",
       "  <thead>\n",
       "    <tr style=\"text-align: right;\">\n",
       "      <th></th>\n",
       "      <th>top_scorer</th>\n",
       "      <th>highscore</th>\n",
       "    </tr>\n",
       "  </thead>\n",
       "  <tbody>\n",
       "    <tr>\n",
       "      <th>65</th>\n",
       "      <td>Quinton de Kock</td>\n",
       "      <td>140</td>\n",
       "    </tr>\n",
       "  </tbody>\n",
       "</table>\n",
       "</div>"
      ],
      "text/plain": [
       "         top_scorer  highscore\n",
       "65  Quinton de Kock        140"
      ]
     },
     "execution_count": 50,
     "metadata": {},
     "output_type": "execute_result"
    }
   ],
   "source": [
    "df[df['highscore'] == df['highscore'].max()][['top_scorer', 'highscore']]"
   ]
  },
  {
   "cell_type": "markdown",
   "id": "85e639d2",
   "metadata": {},
   "source": [
    "Which bowler had the best bowling figures?"
   ]
  },
  {
   "cell_type": "code",
   "execution_count": 52,
   "id": "2f5c4aaf",
   "metadata": {},
   "outputs": [
    {
     "data": {
      "application/vnd.microsoft.datawrangler.viewer.v0+json": {
       "columns": [
        {
         "name": "index",
         "rawType": "int64",
         "type": "integer"
        },
        {
         "name": "best_bowling",
         "rawType": "object",
         "type": "string"
        },
        {
         "name": "best_bowling_figure",
         "rawType": "object",
         "type": "string"
        }
       ],
       "ref": "e9bbea8f-8450-4d23-bf55-1705f23df14d",
       "rows": [
        [
         "29",
         "Yuzvendra Chahal",
         "5--40"
        ],
        [
         "39",
         "Umran Malik",
         "5--25"
        ],
        [
         "53",
         "Wanindu Hasaranga",
         "5--18"
        ],
        [
         "55",
         "Jasprit Bumrah",
         "5--10"
        ]
       ],
       "shape": {
        "columns": 2,
        "rows": 4
       }
      },
      "text/html": [
       "<div>\n",
       "<style scoped>\n",
       "    .dataframe tbody tr th:only-of-type {\n",
       "        vertical-align: middle;\n",
       "    }\n",
       "\n",
       "    .dataframe tbody tr th {\n",
       "        vertical-align: top;\n",
       "    }\n",
       "\n",
       "    .dataframe thead th {\n",
       "        text-align: right;\n",
       "    }\n",
       "</style>\n",
       "<table border=\"1\" class=\"dataframe\">\n",
       "  <thead>\n",
       "    <tr style=\"text-align: right;\">\n",
       "      <th></th>\n",
       "      <th>best_bowling</th>\n",
       "      <th>best_bowling_figure</th>\n",
       "    </tr>\n",
       "  </thead>\n",
       "  <tbody>\n",
       "    <tr>\n",
       "      <th>29</th>\n",
       "      <td>Yuzvendra Chahal</td>\n",
       "      <td>5--40</td>\n",
       "    </tr>\n",
       "    <tr>\n",
       "      <th>39</th>\n",
       "      <td>Umran Malik</td>\n",
       "      <td>5--25</td>\n",
       "    </tr>\n",
       "    <tr>\n",
       "      <th>53</th>\n",
       "      <td>Wanindu Hasaranga</td>\n",
       "      <td>5--18</td>\n",
       "    </tr>\n",
       "    <tr>\n",
       "      <th>55</th>\n",
       "      <td>Jasprit Bumrah</td>\n",
       "      <td>5--10</td>\n",
       "    </tr>\n",
       "  </tbody>\n",
       "</table>\n",
       "</div>"
      ],
      "text/plain": [
       "         best_bowling best_bowling_figure\n",
       "29   Yuzvendra Chahal               5--40\n",
       "39        Umran Malik               5--25\n",
       "53  Wanindu Hasaranga               5--18\n",
       "55     Jasprit Bumrah               5--10"
      ]
     },
     "execution_count": 52,
     "metadata": {},
     "output_type": "execute_result"
    }
   ],
   "source": [
    "df[df['hightest_wicket'] == df['hightest_wicket'].max()][['best_bowling', 'best_bowling_figure']]"
   ]
  }
 ],
 "metadata": {
  "kernelspec": {
   "display_name": ".venv",
   "language": "python",
   "name": "python3"
  },
  "language_info": {
   "codemirror_mode": {
    "name": "ipython",
    "version": 3
   },
   "file_extension": ".py",
   "mimetype": "text/x-python",
   "name": "python",
   "nbconvert_exporter": "python",
   "pygments_lexer": "ipython3",
   "version": "3.13.3"
  }
 },
 "nbformat": 4,
 "nbformat_minor": 5
}
